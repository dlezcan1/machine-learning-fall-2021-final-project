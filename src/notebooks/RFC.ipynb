{
  "nbformat": 4,
  "nbformat_minor": 0,
  "metadata": {
    "colab": {
      "name": "RFC.ipynb",
      "provenance": [],
      "collapsed_sections": [],
      "include_colab_link": true
    },
    "kernelspec": {
      "name": "python3",
      "display_name": "Python 3"
    },
    "language_info": {
      "name": "python"
    }
  },
  "cells": [
    {
      "cell_type": "markdown",
      "metadata": {
        "id": "view-in-github",
        "colab_type": "text"
      },
      "source": [
        "<a href=\"https://colab.research.google.com/github/dlezcan1/machine-learning-fall-2021-final-project/blob/main/src/notebooks/RFC.ipynb\" target=\"_parent\"><img src=\"https://colab.research.google.com/assets/colab-badge.svg\" alt=\"Open In Colab\"/></a>"
      ]
    },
    {
      "cell_type": "code",
      "execution_count": 1,
      "metadata": {
        "id": "W1DeHR0HuQQp",
        "colab": {
          "base_uri": "https://localhost:8080/"
        },
        "outputId": "02b19765-7f5e-4d93-da3c-1b918b62e13d"
      },
      "outputs": [
        {
          "output_type": "stream",
          "name": "stdout",
          "text": [
            "Writing rfcmodel.py\n"
          ]
        }
      ],
      "source": [
        "%%writefile rfcmodel.py\n",
        "# JUST IMPORTS\n",
        "from sklearn.ensemble import RandomForestClassifier\n",
        "import csv\n",
        "import argparse as ap\n",
        "from sklearn.model_selection import train_test_split\n",
        "import numpy as np\n",
        "import pandas as pd\n",
        "import pickle\n",
        "import warnings\n",
        "from sklearn.metrics import confusion_matrix\n",
        "\n",
        "\n",
        "# loading the data\n",
        "url_data = \"https://raw.githubusercontent.com/dlezcan1/machine-learning-fall-2021-final-project/main/data/egfr_erbB1_train_pca.csv\"\n",
        "url_labels = \"https://raw.githubusercontent.com/dlezcan1/machine-learning-fall-2021-final-project/main/data/egfr_erbB1_train_pca_labels.csv\"\n",
        "data = pd.read_csv(url_data, error_bad_lines=False)\n",
        "labels = pd.read_csv(url_labels, error_bad_lines=False)\n",
        "\n",
        "  \n",
        "# Split training data into training and validation datasets.\n",
        "feat_train, feat_val, lbl_train, lbl_val = train_test_split(data, labels, test_size=0.2, random_state=20, stratify=labels)\n",
        "\n",
        "\n",
        "# Harrison's metrics function\n",
        "def metrics(lbl, pred):\n",
        "  with warnings.catch_warnings():\n",
        "    warnings.simplefilter('ignore')\n",
        "    tn, fp, fn, tp = confusion_matrix(lbl, pred).ravel()\n",
        "    accuracy = (tn + tp) / (tn + tp + fn + fp)\n",
        "    specificity = tn / (tn + fp)\n",
        "    sensitivity = tp / (tp + fn)\n",
        "    precision = tp / (tp + fp)\n",
        "    recall = tp / (tp + fn)\n",
        "    f1_score = (2 * precision * recall) / (precision + recall)\n",
        "  return accuracy, specificity, sensitivity, precision, recall, f1_score\n",
        "\n",
        "\n",
        "# argument parsing\n",
        "def get_args():\n",
        "  p = ap.ArgumentParser()\n",
        "\n",
        "  p.add_argument( \"mode\", choices=[ \"train\", \"test\" ], type=str )\n",
        "    #p.add_argument( \"--log-file\", type=str, default=\"models/NN-egfr-logs.csv\" )\n",
        "  p.add_argument( \"--model-save\", type=str, default=\"models/\" )\n",
        "  p.add_argument( \"--predictions-file\", type=str, default=\"NN-egfr-preds.txt\" )\n",
        "\n",
        "    # Hyperparameters\n",
        "\n",
        "  p.add_argument(\"--model\", type=str, default=\"RFC\")\n",
        "  p.add_argument( \"--number-estimators\", type=int, default=10 )\n",
        "  p.add_argument( \"--max-features\", type=str, default='auto' )\n",
        "  p.add_argument(\"--max-depth\", type=int, default=None)\n",
        "  p.add_argument( \"--min-samples-leaf\", type=int, default=1 )\n",
        "  p.add_argument( \"--min-samples-split\", type=int, default=2 )\n",
        "  p.add_argument( \"--bootstrap\", type=bool, default=True )\n",
        "\n",
        "  return p.parse_args()\n",
        "\n",
        "\n",
        "# training function\n",
        "def train( args ):\n",
        "  \n",
        "  # defining the model\n",
        "  rf = RandomForestClassifier(bootstrap=args.bootstrap, max_depth=args.max_depth, max_features=args.max_features,\n",
        "            min_samples_leaf=args.min_samples_leaf, min_samples_split=args.min_samples_split, n_estimators=args.number_estimators)\n",
        "\n",
        "  # reshape labels\n",
        "  labels_train = lbl_train.values.ravel()\n",
        "  \n",
        "  # fitting model\n",
        "  rf.fit(feat_train, labels_train)\n",
        "\n",
        "  # saving model\n",
        "  filename = 'finalized_rfc_model.csv'\n",
        "  pickle.dump(rf, open(filename, 'wb'))\n",
        "\n",
        "\n",
        "# testing function\n",
        "def test( args ): \n",
        "\n",
        "  # open model\n",
        "  filename = 'finalized_rfc_model.csv'\n",
        "  rf = pickle.load(open(filename, 'rb'))\n",
        "\n",
        "  # storing predictions\n",
        "  y_pred = rf.predict(feat_val)\n",
        "  filename2 = 'finalized_rfc_pred.csv'\n",
        "  pickle.dump(y_pred, open(filename2, 'wb'))\n",
        "\n",
        "  # using metrics\n",
        "  accuracy, specificity, sensitivity, precision, recall, f1_score = metrics(lbl_val, y_pred)\n",
        "  print(\"Accuracy: \", accuracy, \"\\n\", \"Specificity: \", specificity, \"\\n\", \"Sensitivity: \", sensitivity,  \"\\n\", \"Precision: \" , precision, \"\\n\",  \"Recall: \",  recall,  \"\\n\", \"F1 Score: \",  f1_score)\n",
        "\n",
        "\n",
        "# main\n",
        "args = get_args()\n",
        "if args.mode == 'train':\n",
        "  train( args )\n",
        "elif args.mode == 'test':\n",
        "  test( args )\n",
        "else:\n",
        "  print( 'Invalid mode.' )\n"
      ]
    },
    {
      "cell_type": "code",
      "source": [
        "!python3 rfcmodel.py train\n",
        "!python3 rfcmodel.py test"
      ],
      "metadata": {
        "colab": {
          "base_uri": "https://localhost:8080/"
        },
        "id": "wpuKEI-6CUmv",
        "outputId": "7739e5bf-42c0-41c9-9c0a-7daf9ffb23c4"
      },
      "execution_count": 2,
      "outputs": [
        {
          "output_type": "stream",
          "name": "stdout",
          "text": [
            "Accuracy:  0.8406275805119736 \n",
            " Specificity:  0.6773255813953488 \n",
            " Sensitivity:  0.9054209919261822 \n",
            " Precision:  0.8761160714285714 \n",
            " Recall:  0.9054209919261822 \n",
            " F1 Score:  0.8905275099262621\n"
          ]
        }
      ]
    }
  ]
}