{
  "nbformat": 4,
  "nbformat_minor": 0,
  "metadata": {
    "colab": {
      "name": "Final Deliverable",
      "provenance": [],
      "collapsed_sections": [
        "oWzH8auEhAuw",
        "-NAsnnIrkUn8"
      ],
      "include_colab_link": true
    },
    "kernelspec": {
      "name": "python3",
      "display_name": "Python 3"
    },
    "language_info": {
      "name": "python"
    }
  },
  "cells": [
    {
      "cell_type": "markdown",
      "metadata": {
        "id": "view-in-github",
        "colab_type": "text"
      },
      "source": [
        "<a href=\"https://colab.research.google.com/github/dlezcan1/machine-learning-fall-2021-final-project/blob/main/Final_Deliverable.ipynb\" target=\"_parent\"><img src=\"https://colab.research.google.com/assets/colab-badge.svg\" alt=\"Open In Colab\"/></a>"
      ]
    },
    {
      "cell_type": "markdown",
      "source": [
        "# Classifying Small Molecules as Epidermal Growth Factor Receptor (EGFR) Inhibitors\n",
        "CS 601.475/675 Final Project\n",
        "\n",
        "Group 4: Dimitri Lezcano, Rishima Mukherjee, Rupsa Acharya, Harrison Khoo\n",
        "\n",
        "All of our contributions can be found at https://github.com/dlezcan1/machine-learning-fall-2021-final-project."
      ],
      "metadata": {
        "id": "gVZeFNH5oOl-"
      }
    },
    {
      "cell_type": "markdown",
      "source": [
        "# Background\n",
        "Epidermal Growth Factor Receptor (EGFR) is critical in cell division signalling pathways. One common cancerous mutation is EGFR overexpression, resulting in rapid, unchecked cell proliferation. This leads to several hallmarks of cancer including angiogensis induction, metastasis, and apoptosis evasion. As EGFR overexpression is common mechanism in several cancers, it is a common therapeutic target."
      ],
      "metadata": {
        "id": "szOXZeq8GbJ9"
      }
    },
    {
      "cell_type": "markdown",
      "source": [
        "In this project, we set out to classify small molecules as potential EGFR inhibitors. The inspiration and data for this project came from https://www.kaggle.com/xiaotawkaggle/inhibitors. The dataset contains candidate small molecule inhibitors for 8 different protein kinases that are targets for cancer therapies. Amongst these potential proteins, we focused this project on EGFR inhibitors because it is a frequent therapeutic target and the dataset had the most data points."
      ],
      "metadata": {
        "id": "eBHYBrS4IQJg"
      }
    },
    {
      "cell_type": "markdown",
      "source": [
        "The listed small molecules were already divided into training and test datasets. Each small molecule had an associated binary label, indicating whether the molecule was a known inhibitor of EGFR. Additionally, there were 8192 molecular fingerprints previously characterized for each small molecule. Each fingerprint is associated with a certain physical characteristic of the molecule."
      ],
      "metadata": {
        "id": "elYGvMcEIUCs"
      }
    },
    {
      "cell_type": "markdown",
      "source": [
        "# Exploratory Data Analyses\n"
      ],
      "metadata": {
        "id": "K-xqlk0HYHMw"
      }
    },
    {
      "cell_type": "markdown",
      "metadata": {
        "id": "8-EdfvjSWm-I"
      },
      "source": [
        "### Uploading Data\n"
      ]
    },
    {
      "cell_type": "markdown",
      "source": [
        "GitHub: src/notebooks/ExploratoryAnalyses.ipynb, src/data/*\n",
        "\n",
        "First column, with title '1', are the labels and each other column represents a fingerprint of the small molecule. Data is all binary."
      ],
      "metadata": {
        "id": "S98hxpX3YQQa"
      }
    },
    {
      "cell_type": "code",
      "metadata": {
        "colab": {
          "base_uri": "https://localhost:8080/"
        },
        "id": "tAuP9MXi9Xn5",
        "outputId": "3666b8f1-a434-473a-af7a-6bb2e2f9ced7"
      },
      "source": [
        "from google.colab import drive\n",
        "drive.mount('/content/drive')"
      ],
      "execution_count": null,
      "outputs": [
        {
          "output_type": "stream",
          "name": "stdout",
          "text": [
            "Mounted at /content/drive\n"
          ]
        }
      ]
    },
    {
      "cell_type": "code",
      "metadata": {
        "id": "huuXoGYAQuK3",
        "colab": {
          "base_uri": "https://localhost:8080/"
        },
        "outputId": "16408e3d-764d-46da-ee10-60f954ff45df"
      },
      "source": [
        "import h5py\n",
        "from scipy import sparse\n",
        "import matplotlib.pyplot as plt\n",
        "import pandas as pd\n",
        "import seaborn as sns\n",
        "import numpy as np\n",
        "from random import sample\n",
        "\n",
        "hf = h5py.File(\"/content/drive/MyDrive/egfr_erbB1.h5\", \"r\")\n",
        "list(hf.keys())\n",
        "\n",
        "train = pd.read_csv('/content/drive/MyDrive/egfr_erbB1_train.csv')\n",
        "test = pd.read_csv('/content/drive/MyDrive/egfr_erbB1_test.csv')\n",
        "train.info()"
      ],
      "execution_count": null,
      "outputs": [
        {
          "output_type": "stream",
          "name": "stdout",
          "text": [
            "<class 'pandas.core.frame.DataFrame'>\n",
            "RangeIndex: 6054 entries, 0 to 6053\n",
            "Columns: 8193 entries, 1 to 0.8102\n",
            "dtypes: int64(8193)\n",
            "memory usage: 378.4 MB\n"
          ]
        }
      ]
    },
    {
      "cell_type": "code",
      "metadata": {
        "id": "p-MuKQqIVUyJ"
      },
      "source": [
        "ids = hf[\"chembl_id\"] # the name of each molecules\n",
        "ap = sparse.csr_matrix((hf[\"ap\"][\"data\"], hf[\"ap\"][\"indices\"], hf[\"ap\"][\"indptr\"]), shape=[len(hf[\"ap\"][\"indptr\"]) - 1, 2039])\n",
        "mg = sparse.csr_matrix((hf[\"mg\"][\"data\"], hf[\"mg\"][\"indices\"], hf[\"mg\"][\"indptr\"]), shape=[len(hf[\"mg\"][\"indptr\"]) - 1, 2039])\n",
        "tt = sparse.csr_matrix((hf[\"tt\"][\"data\"], hf[\"tt\"][\"indices\"], hf[\"tt\"][\"indptr\"]), shape=[len(hf[\"tt\"][\"indptr\"]) - 1, 2039])\n",
        "features = sparse.hstack([ap, mg, tt]).toarray() # the samples' features, each row is a sample, and each sample has 3*2039 features\n",
        "labels = hf[\"label\"] # the label of each molecule"
      ],
      "execution_count": 10,
      "outputs": []
    },
    {
      "cell_type": "markdown",
      "metadata": {
        "id": "eQDU4lg3X__g"
      },
      "source": [
        " ### Missingness of Data"
      ]
    },
    {
      "cell_type": "markdown",
      "source": [
        "Since we know the data is binary, 0 represents a data value and not missing data. We can check for null values, and as there are none, the data is complete."
      ],
      "metadata": {
        "id": "_0015X3fauwG"
      }
    },
    {
      "cell_type": "code",
      "metadata": {
        "id": "0OKQS7MAYGE2",
        "colab": {
          "base_uri": "https://localhost:8080/"
        },
        "outputId": "838d9da3-d584-4304-bfc0-883bcb498f2e"
      },
      "source": [
        "train.isnull().sum()\n",
        "train.isna().sum()\n",
        "# No missing values, each molecule has a value at every feature"
      ],
      "execution_count": null,
      "outputs": [
        {
          "output_type": "execute_result",
          "data": {
            "text/plain": [
              "1         0\n",
              "0         0\n",
              "0.1       0\n",
              "0.2       0\n",
              "0.3       0\n",
              "         ..\n",
              "0.8098    0\n",
              "0.8099    0\n",
              "0.8100    0\n",
              "0.8101    0\n",
              "0.8102    0\n",
              "Length: 8193, dtype: int64"
            ]
          },
          "metadata": {},
          "execution_count": 5
        }
      ]
    },
    {
      "cell_type": "markdown",
      "metadata": {
        "id": "EY00-wTEZ1AU"
      },
      "source": [
        "### Distribution of Data"
      ]
    },
    {
      "cell_type": "markdown",
      "source": [
        "Most features are incredibly sparse. We know each sample has over 8,000 fingerprints, and most fingerprints are 0-valued. If we look at the number of non-zero values per fingerprint, there appears to be a relatively normal distribution ranging between 0 and 250. Thus, we know that every feature is sparse. Similarly, most samples have very few 1-valued fingerprints; every sample with hundreds to thousands of nonzero values is considered an outlier."
      ],
      "metadata": {
        "id": "WLzBIxIgar8w"
      }
    },
    {
      "cell_type": "code",
      "metadata": {
        "id": "q1CNZXy2bNfl",
        "colab": {
          "base_uri": "https://localhost:8080/",
          "height": 298
        },
        "outputId": "2b3f1b76-4476-4800-df40-b1bf756fb8c2"
      },
      "source": [
        "#train.hist() #Let run for two hours and it did not stop running so I will show histograms for labels and random sample of features\n",
        "plt.hist(train['1'], bins = 2)\n",
        "plt.title('Distribution of labels of samples')"
      ],
      "execution_count": null,
      "outputs": [
        {
          "output_type": "execute_result",
          "data": {
            "text/plain": [
              "Text(0.5, 1.0, 'Distribution of labels of samples')"
            ]
          },
          "metadata": {},
          "execution_count": 6
        },
        {
          "output_type": "display_data",
          "data": {
            "image/png": "[encoded data removed]",
            "text/plain": [
              "<Figure size 432x288 with 1 Axes>"
            ]
          },
          "metadata": {
            "needs_background": "light"
          }
        }
      ]
    },
    {
      "cell_type": "markdown",
      "source": [
        "Most of the small molecule samples in the data set are indicators for EGFR."
      ],
      "metadata": {
        "id": "Xl6mx4kPrHd0"
      }
    },
    {
      "cell_type": "code",
      "metadata": {
        "id": "4ZljjQ0UyY5J"
      },
      "source": [
        "train_fea = train.drop('1', axis=1)\n",
        "col_sample = train_fea.sample(n=12,axis='columns') #\n",
        "col_sample.hist(bins = 2)\n",
        "# each feature has mostly 0 vals"
      ],
      "execution_count": null,
      "outputs": []
    },
    {
      "cell_type": "markdown",
      "source": [
        "The run time to create histograms for all 8,000+ fingerprints was too long, so we decided to randomly pick a few fingerprints to represent as histograms. We also looked at features and sample distribution more holistically. From running the above code block a few times with 100 samples, the initial feeling is that most features are 0-valued across samples."
      ],
      "metadata": {
        "id": "uzApvlGXrcEn"
      }
    },
    {
      "cell_type": "code",
      "metadata": {
        "id": "sg_kcZSODUtb",
        "colab": {
          "base_uri": "https://localhost:8080/",
          "height": 298
        },
        "outputId": "5bc3225d-39fa-49d7-de4d-6d20cddcac5a"
      },
      "source": [
        "count_row = np.count_nonzero(train_fea, axis=0)\n",
        "plt.hist(count_row, bins=40)\n",
        "plt.title('# Nonzero data values per sample')\n",
        "#number of nonzero values of features in each sample. There are ~8000 features, and most of the features in each sample have a zero value"
      ],
      "execution_count": 11,
      "outputs": [
        {
          "output_type": "execute_result",
          "data": {
            "text/plain": [
              "Text(0.5, 1.0, '# Nonzero data values per sample')"
            ]
          },
          "metadata": {},
          "execution_count": 11
        },
        {
          "output_type": "display_data",
          "data": {
            "image/png": "[encoded data removed]",
            "text/plain": [
              "<Figure size 432x288 with 1 Axes>"
            ]
          },
          "metadata": {
            "needs_background": "light"
          }
        }
      ]
    },
    {
      "cell_type": "code",
      "metadata": {
        "id": "tY7P_1ZTQMun",
        "colab": {
          "base_uri": "https://localhost:8080/",
          "height": 298
        },
        "outputId": "5bacca51-956f-4fef-c4cd-c4a5502ad4c3"
      },
      "source": [
        "plt.boxplot(count_row)\n",
        "plt.title('# Nonzero data values per sample')"
      ],
      "execution_count": 12,
      "outputs": [
        {
          "output_type": "execute_result",
          "data": {
            "text/plain": [
              "Text(0.5, 1.0, '# Nonzero data values per sample')"
            ]
          },
          "metadata": {},
          "execution_count": 12
        },
        {
          "output_type": "display_data",
          "data": {
            "image/png": "[encoded data removed]",
            "text/plain": [
              "<Figure size 432x288 with 1 Axes>"
            ]
          },
          "metadata": {
            "needs_background": "light"
          }
        }
      ]
    },
    {
      "cell_type": "markdown",
      "source": [
        "We wanted to look at the number of nonzero data points per sample. This is visualized in  both a histogram and a boxplot. Both plots show that majority of the samples have very few non-zero fingerprint (feature values). Any sample with hundreds or thousands of nonzero data points is an outlier. Considering there 8,000+ features, it is very sparse."
      ],
      "metadata": {
        "id": "dpttROYzrjym"
      }
    },
    {
      "cell_type": "code",
      "metadata": {
        "id": "D307uLkUMVz2",
        "colab": {
          "base_uri": "https://localhost:8080/",
          "height": 298
        },
        "outputId": "bad12f6e-bb7d-4be8-a743-def29e9323e1"
      },
      "source": [
        "count_col = np.count_nonzero(train_fea, axis=1)\n",
        "plt.hist(count_col, bins=20)\n",
        "plt.title('# Nonzero data values per feature')\n",
        "# looking at number of nonzero values in each feature "
      ],
      "execution_count": 14,
      "outputs": [
        {
          "output_type": "execute_result",
          "data": {
            "text/plain": [
              "Text(0.5, 1.0, '# Nonzero data values per feature')"
            ]
          },
          "metadata": {},
          "execution_count": 14
        },
        {
          "output_type": "display_data",
          "data": {
            "image/png": "[encoded data removed]",
            "text/plain": [
              "<Figure size 432x288 with 1 Axes>"
            ]
          },
          "metadata": {
            "needs_background": "light"
          }
        }
      ]
    },
    {
      "cell_type": "code",
      "metadata": {
        "id": "uRjTGet_QaJD",
        "colab": {
          "base_uri": "https://localhost:8080/",
          "height": 298
        },
        "outputId": "1130ef78-18cf-4bd2-f169-86dc8278dd1f"
      },
      "source": [
        "plt.boxplot(count_col)\n",
        "plt.title('# Nonzero data values per feature')\n",
        "# the number of nonzero values in each feature looks kind of normally distributed with 50% a little above 100 non-zero vals. There is some skew, but what is interesting is there is ~6000 samples but the distribution is centered in the 100s"
      ],
      "execution_count": 15,
      "outputs": [
        {
          "output_type": "execute_result",
          "data": {
            "text/plain": [
              "Text(0.5, 1.0, '# Nonzero data values per feature')"
            ]
          },
          "metadata": {},
          "execution_count": 15
        },
        {
          "output_type": "display_data",
          "data": {
            "image/png": "[encoded data removed]",
            "text/plain": [
              "<Figure size 432x288 with 1 Axes>"
            ]
          },
          "metadata": {
            "needs_background": "light"
          }
        }
      ]
    },
    {
      "cell_type": "markdown",
      "source": [
        "We also looked at the number of nonzero samples per feature, or biochemical fingerprint. Again, the data was rather sparse. We trained on 6,000+ samples but the spread of nonzero data values of each feature is in the range falls between 0 to 250."
      ],
      "metadata": {
        "id": "Xkiv5VWlse7H"
      }
    },
    {
      "cell_type": "markdown",
      "source": [
        "# Feature Engineering"
      ],
      "metadata": {
        "id": "UjmkGLNkZUx3"
      }
    },
    {
      "cell_type": "markdown",
      "source": [
        "GitHub: src/notebooks/FeatureEngineering.ipynb\n",
        "\n",
        "Load the entire training and testing data."
      ],
      "metadata": {
        "id": "UIztK6dzgZ90"
      }
    },
    {
      "cell_type": "code",
      "metadata": {
        "id": "60Gut-M_CNSB",
        "colab": {
          "base_uri": "https://localhost:8080/",
          "height": 0
        },
        "outputId": "7f6b1f07-0251-446a-bee5-ac02d0ba3fd0"
      },
      "source": [
        "train = np.loadtxt('/content/drive/MyDrive/egfr_erbB1_train.csv', delimiter=',')\n",
        "test = np.loadtxt('/content/drive/MyDrive/egfr_erbB1_test.csv', delimiter=',')\n",
        "\n",
        "# separate the features out\n",
        "train_lbls, train_feats = train[:,0], train[:,1:]\n",
        "print(train_lbls.shape, train_feats.shape)\n",
        "\n",
        "test_lbls, test_feats = test[:,0], test[:,1:]\n",
        "print(test_lbls.shape, test_feats.shape)"
      ],
      "execution_count": 17,
      "outputs": [
        {
          "output_type": "stream",
          "name": "stdout",
          "text": [
            "(6055,) (6055, 8192)\n",
            "(882,) (882, 8192)\n"
          ]
        }
      ]
    },
    {
      "cell_type": "markdown",
      "source": [
        "### Performing PCA"
      ],
      "metadata": {
        "id": "s0YqTmqQdF5G"
      }
    },
    {
      "cell_type": "markdown",
      "source": [
        "Due to the sparsity of data, PCA was used to provide a reduced and compact understanding of the features. 100 components were chosen qualitatively to characterize the dataset with a reasonable size of features. "
      ],
      "metadata": {
        "id": "ooOQsTp_aaGs"
      }
    },
    {
      "cell_type": "code",
      "metadata": {
        "id": "k-EpLjSKDLKw",
        "colab": {
          "base_uri": "https://localhost:8080/",
          "height": 314
        },
        "outputId": "ccbca0ac-3b37-4620-b76d-cf510d20dfa1"
      },
      "source": [
        "from sklearn.decomposition import PCA\n",
        "\n",
        "# exploratory PCA\n",
        "pca_exp = PCA(n_components=200) # 40 seems like on OK number to me, but will use 100 for large use with Neural Networks \n",
        "pca_exp.fit(train_feats)\n",
        "print(pca_exp.singular_values_.shape, pca_exp.components_.shape)\n",
        "plt.plot(pca_exp.singular_values_)\n",
        "plt.xlabel('Singular Value Index')\n",
        "plt.ylabel('Singular Value')"
      ],
      "execution_count": 18,
      "outputs": [
        {
          "output_type": "stream",
          "name": "stdout",
          "text": [
            "(200,) (200, 8192)\n"
          ]
        },
        {
          "output_type": "execute_result",
          "data": {
            "text/plain": [
              "Text(0, 0.5, 'Singular Value')"
            ]
          },
          "metadata": {},
          "execution_count": 18
        },
        {
          "output_type": "display_data",
          "data": {
            "image/png": "[encoded data removed]",
            "text/plain": [
              "<Figure size 432x288 with 1 Axes>"
            ]
          },
          "metadata": {
            "needs_background": "light"
          }
        }
      ]
    },
    {
      "cell_type": "markdown",
      "source": [
        "Fit the PCA to the Training data and apply to the test data."
      ],
      "metadata": {
        "id": "8V61aMYAgQ6d"
      }
    },
    {
      "cell_type": "code",
      "metadata": {
        "id": "MhLJgxDsF1Mm",
        "colab": {
          "base_uri": "https://localhost:8080/",
          "height": 0
        },
        "outputId": "d658fc18-9da3-4092-da2d-ec2883544262"
      },
      "source": [
        "pca_feats = PCA(n_components=100)\n",
        "train_feats_pca = pca_feats.fit_transform(train_feats)\n",
        "print(train_feats_pca.shape)\n",
        "\n",
        "test_feats_pca = pca_feats.transform(test_feats)\n",
        "print(test_feats_pca.shape)"
      ],
      "execution_count": 19,
      "outputs": [
        {
          "output_type": "stream",
          "name": "stdout",
          "text": [
            "(6055, 100)\n",
            "(882, 100)\n"
          ]
        }
      ]
    },
    {
      "cell_type": "markdown",
      "source": [
        "# Neural Network Model"
      ],
      "metadata": {
        "id": "5MGSugNpdnwT"
      }
    },
    {
      "cell_type": "markdown",
      "source": [
        "### Methods"
      ],
      "metadata": {
        "id": "O-P_q_vMgHvt"
      }
    },
    {
      "cell_type": "markdown",
      "source": [
        "GitHub: src/loss.py, main.py, models.py\n",
        "\n",
        "A neural network model was designed using batch sampling, the adam optimizer,  and a fixed learning rate. It was trained using two different loss functions, BCE loss and focal loss, from [1] is used as the loss function to address learning on a dataset with class-imbalance and is calculated as\n",
        "\n",
        "$$\n",
        "\\begin{align*}\n",
        "p_t &= \\begin{cases} p & \\text{if } y = 1\\\\ 1 - p & \\text{otherwise} \\end{cases}\\\\\n",
        "FL &= -(1 - p_t)^\\gamma \\log p_t,~~~ \\gamma \\geq 0\n",
        "\\end{align*}\n",
        "$$\n",
        "\n",
        "Where $p$ is the predicted probability of the output being true. It is a modification on Cross-entropy loss which can be changed based on varying the hyper-parameter $\\gamma$.\n",
        "\n",
        "\\\\\n",
        "[1] Lin, T.-Y., Goyal, P., Girshick, R. B., He, K., & Dollár, P. (2017). Focal Loss for Dense Object Detection. CoRR, abs/1708.02002. Opgehaal van http://arxiv.org/abs/1708.02002"
      ],
      "metadata": {
        "id": "mEdXafO6e0TV"
      }
    },
    {
      "cell_type": "code",
      "source": [
        "from google.colab import files\n",
        "\n",
        "!cp /content/drive/MyDrive/loss.py .\n",
        "!cp /content/drive/MyDrive/metrics.py .\n",
        "!cp /content/drive/MyDrive/models.py ."
      ],
      "metadata": {
        "id": "o8Yv5ghcdQSq"
      },
      "execution_count": 31,
      "outputs": []
    },
    {
      "cell_type": "code",
      "source": [
        "from loss import FocalLoss # custom implementation of focal loss\n",
        "from torch.nn.functional import binary_cross_entropy_with_logits # BCE loss used for training"
      ],
      "metadata": {
        "id": "OjQN7kNYjeyG"
      },
      "execution_count": 32,
      "outputs": []
    },
    {
      "cell_type": "markdown",
      "source": [
        "Several hyperparameters were left to tune, including the number of hidden layers, size of hidden layers, loss function (BCE vs. focal), training steps, batch size, and learning rate. "
      ],
      "metadata": {
        "id": "vkH-xGXMjeF_"
      }
    },
    {
      "cell_type": "markdown",
      "source": [
        "### Metrics"
      ],
      "metadata": {
        "id": "ov_uFCHvihLt"
      }
    },
    {
      "cell_type": "markdown",
      "source": [
        "GitHub: src/metrics.py\n",
        "\n",
        "To evaluate our models, we wrote a metrics function that calculated the accuracy, specificity, sensitivity, precision, recall, and f1 score for a set of predictions and true values. The f1 score is the harmonic mean of precision and recall, with the highest value being 1."
      ],
      "metadata": {
        "id": "5cT7jbcsPfEK"
      }
    },
    {
      "cell_type": "code",
      "source": [
        "# some functions to evaluate accuracy and other metrics\n",
        "from metrics import metrics\n",
        "\n",
        "accuracy = lambda lbl, pred: metrics(lbl,pred)[0]\n",
        "\n",
        "def predict(model, data):\n",
        "  \"\"\" Neural network prediction \"\"\"\n",
        "  logits = model(data)\n",
        "  pred = torch.sigmoid(logits).round()\n",
        "  return pred.detach().numpy()\n",
        "\n",
        "# predict\n",
        "\n",
        "def print_metrics(lbl, pred):\n",
        "  accuracy, specificity, sensitivity, precision, recall, f1_score  = metrics(lbl, pred)\n",
        "\n",
        "  print(\"  Accuracy:\", accuracy*100, '%')\n",
        "  print(\"  Specificity:\", specificity)\n",
        "  print(\"  Sensitivity:\", sensitivity)\n",
        "  print(\"  Precision:\", precision)\n",
        "  print(\"  Recall:\", recall)\n",
        "  print(\"  F1 Score:\", f1_score)\n",
        "\n",
        "# print_metrics"
      ],
      "metadata": {
        "id": "y9N96oo6d3zA"
      },
      "execution_count": 33,
      "outputs": []
    },
    {
      "cell_type": "markdown",
      "source": [
        "Metrics run on this model using default 2 hidden layers, 10,000 training steps, and a learning rate of 0.001,  results are as follows:\n"
      ],
      "metadata": {
        "id": "J-rwlaxudnpK"
      }
    },
    {
      "cell_type": "code",
      "source": [
        "import torch\n",
        "model_nn_bce = torch.load('/content/drive/MyDrive/NN-BCE.torch')\n",
        "model_nn_bce.eval()\n",
        "print(\"BCE trained model:\\n\", model_nn_bce)\n",
        "\n",
        "# performance of BCE-trained model\n",
        "print(\"BCE Loss trained NN Performance:\")\n",
        "print(\" Performance on Training Dataset:\")\n",
        "train_pred_bce = predict(model_nn_bce, (torch.from_numpy(train_feats_pca).float()))\n",
        "print_metrics(train_lbls, train_pred_bce)\n",
        "print(\" Performance on Test Dataset:\")\n",
        "test_pred_bce = predict(model_nn_bce, torch.from_numpy(test_feats_pca).float())\n",
        "print_metrics(test_lbls, test_pred_bce)\n",
        "print() \n",
        "\n",
        "\n",
        "model_nn_focal = torch.load('/content/drive/MyDrive/NN-focal.torch')\n",
        "model_nn_focal.eval()\n",
        "print(\"Focal loss trained model:\\n\", model_nn_focal)\n",
        "\n",
        "# performance of Focal Loss-trained model\n",
        "print(\"Focal Loss (gamma=2.0) trained NN Performance:\")\n",
        "print(\" Performance on Training Dataset:\")\n",
        "train_pred_focal = predict(model_nn_focal, (torch.from_numpy(train_feats_pca).float()))\n",
        "print_metrics(train_lbls, train_pred_focal)\n",
        "print(\" Performance on Test Dataset:\")\n",
        "test_pred_focal = predict(model_nn_focal, torch.from_numpy(test_feats_pca).float())\n",
        "print_metrics(test_lbls, test_pred_focal)\n"
      ],
      "metadata": {
        "id": "PWNiqm86ilGb",
        "colab": {
          "base_uri": "https://localhost:8080/",
          "height": 0
        },
        "outputId": "aa7e0bd4-7373-4972-8df7-f76984936aa9"
      },
      "execution_count": 35,
      "outputs": [
        {
          "output_type": "stream",
          "name": "stdout",
          "text": [
            "BCE trained model:\n",
            " FeedForward(\n",
            "  (fc1): Linear(in_features=100, out_features=10, bias=True)\n",
            "  (fc2): Linear(in_features=10, out_features=1, bias=True)\n",
            ")\n",
            "BCE Loss trained NN Performance:\n",
            " Performance on Training Dataset:\n",
            "  Accuracy: 86.58959537572254 %\n",
            "  Specificity: 0.7225130890052356\n",
            "  Sensitivity: 0.922739852398524\n",
            "  Precision: 0.8934792317999106\n",
            "  Recall: 0.922739852398524\n",
            "  F1 Score: 0.9078738370773769\n",
            " Performance on Test Dataset:\n",
            "  Accuracy: 69.50113378684807 %\n",
            "  Specificity: 0.5242718446601942\n",
            "  Sensitivity: 0.7470414201183432\n",
            "  Precision: 0.8374792703150912\n",
            "  Recall: 0.7470414201183432\n",
            "  F1 Score: 0.7896794370602033\n",
            "\n",
            "Focal loss trained model:\n",
            " FeedForward(\n",
            "  (fc1): Linear(in_features=100, out_features=10, bias=True)\n",
            "  (fc2): Linear(in_features=10, out_features=1, bias=True)\n",
            ")\n",
            "Focal Loss (gamma=2.0) trained NN Performance:\n",
            " Performance on Training Dataset:\n",
            "  Accuracy: 85.94549958711808 %\n",
            "  Specificity: 0.7364746945898778\n",
            "  Sensitivity: 0.908210332103321\n",
            "  Precision: 0.896834434069688\n",
            "  Recall: 0.908210332103321\n",
            "  F1 Score: 0.9024865360375846\n",
            " Performance on Test Dataset:\n",
            "  Accuracy: 66.43990929705215 %\n",
            "  Specificity: 0.33495145631067963\n",
            "  Sensitivity: 0.764792899408284\n",
            "  Precision: 0.790519877675841\n",
            "  Recall: 0.764792899408284\n",
            "  F1 Score: 0.7774436090225564\n"
          ]
        }
      ]
    },
    {
      "cell_type": "markdown",
      "source": [
        "### Hyperparameter Tuning\n",
        "GitHub: models/*\n",
        "\n",
        "The following neural Network hyperparameters were tuned using a grid search method:\n",
        "- Number of Training Steps: 1000, 4000, 7000, 10000\n",
        "- Training Batch Size: 50, 100, 150\n",
        "- Learning Rate: 0.1, 0.01, 0.001\n",
        "- Loss Function: focal loss, binary cross entropy\n",
        "- Focal loss gamma: 1.0, 2.0, 3.0\n",
        "- Number of hidden layers: 1, 2, 3"
      ],
      "metadata": {
        "id": "EQX9BwWnistV"
      }
    },
    {
      "cell_type": "markdown",
      "source": [
        "### Best Model\n",
        "GitHub: src/models/NN-best.torch\n",
        "\n",
        "The best model we found was trained with the parameters:\n",
        "- Number of Training Steps: 10000\n",
        "- Training Batch Size: 50\n",
        "- Learning Rate: 0.001\n",
        "- Loss Function: focal loss\n",
        "- Focal loss gamma: 1.0\n",
        "- Number of hidden layers: 1"
      ],
      "metadata": {
        "id": "zeUUnLWmoIQJ"
      }
    },
    {
      "cell_type": "code",
      "source": [
        "model_nn_best = torch.load('/content/drive/MyDrive/NN-best.torch')\n",
        "print(\"Best Model:\\n\", model_nn_best)\n",
        "print(\" Performance on Training Dataset:\")\n",
        "train_pred_best = predict(model_nn_best, (torch.from_numpy(train_feats_pca).float()))\n",
        "print_metrics(train_lbls, train_pred_best)\n",
        "print(\" Performance on Test Dataset:\")\n",
        "test_pred_best = predict(model_nn_best, torch.from_numpy(test_feats_pca).float())\n",
        "print_metrics(test_lbls, test_pred_best)"
      ],
      "metadata": {
        "id": "PfYOZEBHe-HP",
        "colab": {
          "base_uri": "https://localhost:8080/",
          "height": 0
        },
        "outputId": "a95086e2-3bdd-4fc1-e6e1-23783f8d13f6"
      },
      "execution_count": 36,
      "outputs": [
        {
          "output_type": "stream",
          "name": "stdout",
          "text": [
            "Best Model:\n",
            " FeedForwardNLayers(\n",
            "  (inp): LinearReLU(in_features=100, out_features=100, bias=True)\n",
            "  (hidden): Sequential(\n",
            "    (0): LinearReLU(in_features=100, out_features=100, bias=True)\n",
            "    (1): LinearReLU(in_features=100, out_features=100, bias=True)\n",
            "  )\n",
            "  (out): Linear(in_features=100, out_features=1, bias=True)\n",
            ")\n",
            " Performance on Training Dataset:\n",
            "  Accuracy: 92.056151940545 %\n",
            "  Specificity: 0.8342059336823735\n",
            "  Sensitivity: 0.9547970479704797\n",
            "  Precision: 0.9355932203389831\n",
            "  Recall: 0.9547970479704797\n",
            "  F1 Score: 0.9450975915991326\n",
            " Performance on Test Dataset:\n",
            "  Accuracy: 70.63492063492063 %\n",
            "  Specificity: 0.42718446601941745\n",
            "  Sensitivity: 0.7914201183431953\n",
            "  Precision: 0.8192955589586524\n",
            "  Recall: 0.7914201183431953\n",
            "  F1 Score: 0.8051166290443942\n"
          ]
        }
      ]
    },
    {
      "cell_type": "markdown",
      "source": [
        "# Random Forest Classifier"
      ],
      "metadata": {
        "id": "IOAeLhZBhvCA"
      }
    },
    {
      "cell_type": "markdown",
      "source": [
        "### Methods"
      ],
      "metadata": {
        "id": "oWzH8auEhAuw"
      }
    },
    {
      "cell_type": "markdown",
      "source": [
        "GitHub: rfcmodel.py\n",
        "\n",
        "Random forest classifier methods from sklearn.ensemble were used. Again, several hyperparameters were included for tuning. Hyperparameters included were: \n",
        "* Number of Estimators\n",
        "* Maximum Number of Features\n",
        "* Maximum Tree Depth\n",
        "* Minimum Points to Split On\n",
        "* Minimum Points per Leaf\n",
        "* Bootstrap\n",
        "\n",
        "\n",
        "\n",
        " Included below is the testing functions: "
      ],
      "metadata": {
        "id": "wVwJAyA7hEsU"
      }
    },
    {
      "cell_type": "code",
      "source": [
        "from sklearn.ensemble import RandomForestClassifier\n",
        "import csv\n",
        "\n",
        "# training function\n",
        "def train( args ):\n",
        "  \n",
        "  # defining the model\n",
        "  rf = RandomForestClassifier(bootstrap=args.bootstrap, max_depth=args.max_depth, max_features=args.max_features,\n",
        "            min_samples_leaf=args.min_samples_leaf, min_samples_split=args.min_samples_split, n_estimators=args.number_estimators)\n",
        "\n",
        "  # reshape labels\n",
        "  labels_train = lbl_train.values.ravel()\n",
        "  \n",
        "  # fitting model\n",
        "  rf.fit(feat_train, labels_train)\n",
        "\n",
        "  # saving model\n",
        "  filename = 'finalized_rfc_model.csv'\n",
        "  pickle.dump(rf, open(filename, 'wb'))\n",
        "\n",
        "\n",
        "# testing function\n",
        "def test( args ): \n",
        "\n",
        "  # open model\n",
        "  filename = 'finalized_rfc_model.csv'\n",
        "  rf = pickle.load(open(filename, 'rb'))\n",
        "\n",
        "  # storing predictions\n",
        "  y_pred = rf.predict(feat_val)\n",
        "  filename2 = 'finalized_rfc_pred.csv'\n",
        "  pickle.dump(y_pred, open(filename2, 'wb'))\n",
        "\n",
        "  # using metrics\n",
        "  accuracy, specificity, sensitivity, precision, recall, f1_score = metrics(lbl_val, y_pred)\n",
        "  print(\"Accuracy: \", accuracy, \"\\n\", \"Specificity: \", specificity, \"\\n\", \"Sensitivity: \", sensitivity,  \"\\n\", \"Precision: \" , precision, \"\\n\",  \"Recall: \",  recall,  \"\\n\", \"F1 Score: \",  f1_score)\n"
      ],
      "metadata": {
        "id": "-XUhXBsbjuzN"
      },
      "execution_count": null,
      "outputs": []
    },
    {
      "cell_type": "markdown",
      "source": [
        "### Metrics"
      ],
      "metadata": {
        "id": "-NAsnnIrkUn8"
      }
    },
    {
      "cell_type": "markdown",
      "source": [
        "GitHub: src/metrics.py\n",
        "\n",
        "The random forest classifier was initially run using default values of each hyperparameter (bootstrap = True, number of trees = 10, max features = 'auto', max depth = None, min points in a leaf = 1, and min points to split a node = 1). The model was trained and evaluated on the training set, and later evaluated on the testing set. This yielded the metrics shown below: "
      ],
      "metadata": {
        "id": "zzawjPKclxuy"
      }
    },
    {
      "cell_type": "code",
      "source": [
        "pred_test = pd.read_csv('/content/drive/MyDrive/ML Final Project Fall 2021/RFC_preds/finalized_rfc_pred_test.txt')\n",
        "pred_train = pd.read_csv('/content/drive/MyDrive/ML Final Project Fall 2021/RFC_preds/finalized_rfc_pred_train.txt')\n",
        "\n",
        "# performance of trained model\n",
        "print(\"Loss trained RFC Performance:\")\n",
        "print(\" Performance on Training Dataset:\")\n",
        "print_metrics(train_lbls[1:6053], pred_train)\n",
        "print(\" Performance on Test Dataset:\")\n",
        "print_metrics(test_lbls[0:879], pred_test)\n",
        "print() \n"
      ],
      "metadata": {
        "colab": {
          "base_uri": "https://localhost:8080/"
        },
        "id": "Y8XfyklOHzbY",
        "outputId": "3617e0d6-2966-49d5-aebe-939795b39f8d"
      },
      "execution_count": null,
      "outputs": [
        {
          "output_type": "stream",
          "name": "stdout",
          "text": [
            "Loss trained RFC Performance:\n",
            " Performance on Training Dataset:\n",
            "  Accuracy: 96.43093192333113 %\n",
            "  Specificity: 0.924956369982548\n",
            "  Sensitivity: 0.9799215324255712\n",
            "  Precision: 0.9705142857142857\n",
            "  Recall: 0.9799215324255712\n",
            "  F1 Score: 0.9751952227836472\n",
            " Performance on Test Dataset:\n",
            "  Accuracy: 62.116040955631405 %\n",
            "  Specificity: 0.2780487804878049\n",
            "  Sensitivity: 0.7255192878338279\n",
            "  Precision: 0.7676609105180534\n",
            "  Recall: 0.7255192878338279\n",
            "  F1 Score: 0.7459954233409611\n",
            "\n"
          ]
        }
      ]
    },
    {
      "cell_type": "markdown",
      "source": [
        "### Hyperparameter Tuning"
      ],
      "metadata": {
        "id": "oap78q6wkX3i"
      }
    },
    {
      "cell_type": "markdown",
      "source": [
        "Github: HyperparameterTuningRFC.ipynb\n",
        "\n",
        "Hyperparameter tuning for the random forest classifier was completed in two iterations, first using random search cross validation in order to narrow down ranges for each hyperparameter, and second, using grid search cross validation to identify the optimal parameters. Random search cross validation was performed on the following hyperparameters: \n",
        "\n",
        "*   Number of Estimators: *\\[200 to 2000]*\n",
        "* Maximum Number of Features: *\\[auto or sqrt]*\n",
        "* Maximum Tree Depth: *\\[10 to 110, and None]*\n",
        "* Minimum Points to Split On: *\\[2, 5, or 10]*\n",
        "* Minimum Points per Leaf: *\\[1, 2, or 4]*\n",
        "* Bootstrap: *\\[True or False]*\n",
        "\n",
        "\n",
        "\n",
        "Shown below is the first iteration:"
      ],
      "metadata": {
        "id": "ZddD84YakdSn"
      }
    },
    {
      "cell_type": "code",
      "execution_count": null,
      "metadata": {
        "colab": {
          "base_uri": "https://localhost:8080/"
        },
        "id": "M8KtVtg9YCOO",
        "outputId": "21ac226c-806f-4661-8d61-14eb23c0c909"
      },
      "outputs": [
        {
          "metadata": {
            "tags": null
          },
          "name": "stdout",
          "output_type": "stream",
          "text": [
            "Fitting 3 folds for each of 10 candidates, totalling 30 fits\n"
          ]
        },
        {
          "output_type": "stream",
          "name": "stderr",
          "text": [
            "/usr/local/lib/python3.7/dist-packages/sklearn/model_selection/_search.py:926: DataConversionWarning: A column-vector y was passed when a 1d array was expected. Please change the shape of y to (n_samples,), for example using ravel().\n",
            "  self.best_estimator_.fit(X, y, **fit_params)\n"
          ]
        }
      ],
      "source": [
        "\n",
        "# Hyperparamater Tuning for Random Forest Classifier \n",
        "\n",
        "# loading the data\n",
        "url_data = \"https://raw.githubusercontent.com/dlezcan1/machine-learning-fall-2021-final-project/main/data/egfr_erbB1_train_pca.csv\"\n",
        "url_labels = \"https://raw.githubusercontent.com/dlezcan1/machine-learning-fall-2021-final-project/main/data/egfr_erbB1_train_pca_labels.csv\"\n",
        "data = pd.read_csv(url_data, error_bad_lines=False)\n",
        "labels = pd.read_csv(url_labels, error_bad_lines=False)\n",
        "  \n",
        "# Split training data into training and validation datasets.\n",
        "feat_train, feat_val, lbl_train, lbl_val = train_test_split(data, labels, test_size=0.2, random_state=20, stratify=labels)\n",
        "\n",
        "# initializing all possibilities for the hyperparameters\n",
        "n_estimators = [int(x) for x in np.linspace(start = 200, stop = 2000, num = 10)]\n",
        "max_features = ['auto', 'sqrt']\n",
        "max_depth = [int(x) for x in np.linspace(10, 110, num = 11)]\n",
        "max_depth.append(None)\n",
        "min_samples_split = [2, 5, 10]\n",
        "min_samples_leaf = [1, 2, 4]\n",
        "bootstrap = [True, False]\n",
        "\n",
        "\n",
        "# Create the random grid\n",
        "random_grid = {'n_estimators': n_estimators,\n",
        "               'max_features': max_features,\n",
        "               'max_depth': max_depth,\n",
        "               'min_samples_split': min_samples_split,\n",
        "               'min_samples_leaf': min_samples_leaf,\n",
        "               'bootstrap': bootstrap}\n",
        "\n",
        "rf = RandomForestClassifier()\n",
        "\n",
        "# Random search of parameters, using 3 fold cross validation\n",
        "# search across 100 different combinations, and use all available cores\n",
        "rf_random = RandomizedSearchCV(estimator = rf, param_distributions = random_grid, n_iter = 10, cv = 3, verbose=2, random_state=42, n_jobs = -1)\n",
        "\n",
        "# Fit the random search model\n",
        "rf_random.fit(feat_train, lbl_train)\n",
        "new_pred = rf_random.predict(feat_val)\n"
      ]
    },
    {
      "cell_type": "code",
      "execution_count": null,
      "metadata": {
        "colab": {
          "base_uri": "https://localhost:8080/"
        },
        "id": "G-sy90wbXFnn",
        "outputId": "5366a7bb-a9e3-4791-c70e-c253d4182173"
      },
      "outputs": [
        {
          "output_type": "stream",
          "name": "stderr",
          "text": [
            "/usr/local/lib/python3.7/dist-packages/ipykernel_launcher.py:5: DataConversionWarning: A column-vector y was passed when a 1d array was expected. Please change the shape of y to (n_samples,), for example using ravel().\n",
            "  \"\"\"\n"
          ]
        },
        {
          "output_type": "stream",
          "name": "stdout",
          "text": [
            "Best Parameters:  {'n_estimators': 1000, 'min_samples_split': 10, 'min_samples_leaf': 1, 'max_features': 'auto', 'max_depth': 80, 'bootstrap': False}\n",
            "Original Model Accuracy:  0.8571428571428571\n",
            "New Model Accuracy:  0.8670520231213873\n",
            "Improvement in Accuracy:  0.009909165978530199\n"
          ]
        }
      ],
      "source": [
        "# printing the accuracy of the best model vs new model\n",
        "\n",
        "# original model\n",
        "orig_model = RandomForestClassifier()\n",
        "orig_model.fit(feat_train, lbl_train)\n",
        "orig_pred = orig_model.predict(feat_val)\n",
        "\n",
        "# get best parameters\n",
        "print(\"Best Parameters: \", rf_random.best_params_)\n",
        "\n",
        "# get accuracies\n",
        "new_model_acc = metrics(lbl_val, new_pred)\n",
        "orig_model_acc = metrics(lbl_val, orig_pred)\n",
        "\n",
        "# print accuracies\n",
        "print(\"Original Model Accuracy: \", orig_model_acc)\n",
        "print(\"New Model Accuracy: \", new_model_acc)\n",
        "print(\"Improvement in Accuracy: \", new_model_acc - orig_model_acc)"
      ]
    },
    {
      "cell_type": "markdown",
      "source": [
        "Next, the second iteration of tuning using grid search cross validation was performed, using more refined values for each hyperparameter:\n",
        "\n",
        "*   Number of Estimators: *\\[70, 80, 90]*\n",
        "* Maximum Number of Features: *\\[auto]*\n",
        "* Maximum Tree Depth: *\\[10 to 110, and None]*\n",
        "* Minimum Points to Split On: *\\[8, 10, 12]*\n",
        "* Minimum Points per Leaf: *\\[1]*\n",
        "* Bootstrap: *\\[False]*"
      ],
      "metadata": {
        "id": "a7DvP5rvoy--"
      }
    },
    {
      "cell_type": "code",
      "execution_count": null,
      "metadata": {
        "colab": {
          "base_uri": "https://localhost:8080/"
        },
        "id": "-HKH7EaAYGLO",
        "outputId": "15805c38-cb35-4336-f8fe-5b40e98e869b"
      },
      "outputs": [
        {
          "metadata": {
            "tags": null
          },
          "name": "stdout",
          "output_type": "stream",
          "text": [
            "Fitting 2 folds for each of 27 candidates, totalling 54 fits\n"
          ]
        },
        {
          "metadata": {
            "tags": null
          },
          "name": "stderr",
          "output_type": "stream",
          "text": [
            "/usr/local/lib/python3.7/dist-packages/sklearn/model_selection/_search.py:926: DataConversionWarning: A column-vector y was passed when a 1d array was expected. Please change the shape of y to (n_samples,), for example using ravel().\n",
            "  self.best_estimator_.fit(X, y, **fit_params)\n"
          ]
        }
      ],
      "source": [
        "# Create the parameter grid based on the results of random search \n",
        "param_grid = {\n",
        "    'bootstrap': [False],\n",
        "    'max_depth': [ 70, 80, 90], \n",
        "    'max_features': ['auto'],\n",
        "    'min_samples_leaf': [1], # 1, 2, 3 # increased runtime so much that I ended up leaving this out\n",
        "    'min_samples_split': [8, 10, 12],\n",
        "    'n_estimators': [ 900, 1000, 1100],\n",
        "}\n",
        "\n",
        "# Instantiate the grid search model\n",
        "grid_search = GridSearchCV(estimator = rf, param_grid = param_grid, cv = 2, n_jobs = -1, verbose = 2)\n",
        "\n",
        "# Fit the grid search to the data\n",
        "grid_search.fit(feat_train, lbl_train)\n",
        "best_pred = grid_search.predict(feat_val)\n"
      ]
    },
    {
      "cell_type": "code",
      "execution_count": null,
      "metadata": {
        "colab": {
          "base_uri": "https://localhost:8080/"
        },
        "outputId": "8e34c3ef-3a3b-46da-8007-3d7e87c591b2",
        "id": "y89eiyo6NFA8"
      },
      "outputs": [
        {
          "output_type": "stream",
          "name": "stdout",
          "text": [
            "Best Parameters:  {'bootstrap': False, 'max_depth': 70, 'max_features': 'auto', 'min_samples_leaf': 1, 'min_samples_split': 8, 'n_estimators': 1100}\n",
            "Original Model Accuracy:  0.8571428571428571\n",
            "New Model Accuracy:  0.8587943848059455\n",
            "Improvement in Accuracy:  0.0016515276630884035\n"
          ]
        }
      ],
      "source": [
        "# printing the accuracy of the best model vs new model\n",
        "\n",
        "# get best parameters\n",
        "print(\"Best Parameters: \", grid_search.best_params_)\n",
        "\n",
        "# get accuracies\n",
        "best_model_acc = metrics(lbl_val, best_pred)\n",
        "\n",
        "# print\n",
        "print(\"Original Model Accuracy: \", orig_model_acc)\n",
        "print(\"New Model Accuracy: \", best_model_acc)\n",
        "print(\"Improvement in Accuracy: \", best_model_acc - orig_model_acc)"
      ]
    },
    {
      "cell_type": "markdown",
      "source": [
        "### Best Model"
      ],
      "metadata": {
        "id": "1RQmJfcloEGP"
      }
    },
    {
      "cell_type": "markdown",
      "source": [
        "The best model identified through hyperparameter tuning had parameters: \n",
        "\n",
        "*   Number of Estimators: *1100*\n",
        "* Maximum Number of Features: *auto*\n",
        "* Maximum Tree Depth: *70*\n",
        "* Minimum Points to Split On: *8*\n",
        "* Minimum Points per Leaf: *1*\n",
        "* Bootstrap: *False*\n",
        "\n",
        "The performance of the best model is shown below: \n"
      ],
      "metadata": {
        "id": "qQw4nv1z929g"
      }
    },
    {
      "cell_type": "code",
      "source": [
        "pred_test = pd.read_csv('/content/drive/MyDrive/ML Final Project Fall 2021/RFC_preds/best_rfc_pred_test.txt')\n",
        "pred_train = pd.read_csv('/content/drive/MyDrive/ML Final Project Fall 2021/RFC_preds/best_rfc_pred_train.txt')\n",
        "\n",
        "# performance of BCE-trained model\n",
        "print(\"Loss trained RFC Performance:\")\n",
        "print(\" Performance on Training Dataset:\")\n",
        "print_metrics(train_lbls[1:6053], pred_train)\n",
        "print(\" Performance on Test Dataset:\")\n",
        "print_metrics(test_lbls[0:879], pred_test)\n",
        "print() \n"
      ],
      "metadata": {
        "colab": {
          "base_uri": "https://localhost:8080/"
        },
        "outputId": "b515031b-fd7f-4c6e-cbb0-8349c8104f8d",
        "id": "_forRbSGQUKP"
      },
      "execution_count": null,
      "outputs": [
        {
          "output_type": "stream",
          "name": "stdout",
          "text": [
            "Loss trained RFC Performance:\n",
            " Performance on Training Dataset:\n",
            "  Accuracy: 96.43093192333113 %\n",
            "  Specificity: 0.924956369982548\n",
            "  Sensitivity: 0.9799215324255712\n",
            "  Precision: 0.9705142857142857\n",
            "  Recall: 0.9799215324255712\n",
            "  F1 Score: 0.9751952227836472\n",
            " Performance on Test Dataset:\n",
            "  Accuracy: 73.37883959044369 %\n",
            "  Specificity: 0.05853658536585366\n",
            "  Sensitivity: 0.9391691394658753\n",
            "  Precision: 0.7663438256658596\n",
            "  Recall: 0.9391691394658753\n",
            "  F1 Score: 0.844\n",
            "\n"
          ]
        }
      ]
    }
  ]
}