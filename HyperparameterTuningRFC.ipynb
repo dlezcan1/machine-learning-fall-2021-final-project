{
  "cells": [
    {
      "cell_type": "code",
      "execution_count": 1,
      "metadata": {
        "colab": {
          "base_uri": "https://localhost:8080/"
        },
        "id": "M2Cy9FaZXLwu",
        "outputId": "2ff22e94-c437-4aed-c6eb-349e45a06172"
      },
      "outputs": [
        {
          "output_type": "stream",
          "name": "stdout",
          "text": [
            "Drive already mounted at /content/drive; to attempt to forcibly remount, call drive.mount(\"/content/drive\", force_remount=True).\n"
          ]
        }
      ],
      "source": [
        "# mounting drive\n",
        "from google.colab import drive\n",
        "drive.mount('/content/drive')"
      ]
    },
    {
      "cell_type": "code",
      "execution_count": 2,
      "metadata": {
        "id": "QFFIJNGLfPa_"
      },
      "outputs": [],
      "source": [
        "# JUST IMPORTS\n",
        "from sklearn.ensemble import RandomForestClassifier\n",
        "from sklearn.model_selection import GridSearchCV\n",
        "from sklearn.model_selection import RandomizedSearchCV \n",
        "import csv\n",
        "import argparse as ap\n",
        "from sklearn.model_selection import train_test_split\n",
        "import numpy as np\n",
        "import pandas as pd\n",
        "import pickle\n",
        "import warnings\n",
        "from sklearn.metrics import confusion_matrix\n",
        "import numpy as np\n"
      ]
    },
    {
      "cell_type": "markdown",
      "metadata": {
        "id": "oPYcnKPXYuVS"
      },
      "source": [
        "***Evaluation Function***\n",
        "\n",
        "Defining a modified evaluation function in order to do base comparisons of different models."
      ]
    },
    {
      "cell_type": "code",
      "execution_count": 3,
      "metadata": {
        "id": "gfnupcyRY5a_"
      },
      "outputs": [],
      "source": [
        "import warnings\n",
        "from sklearn.metrics import confusion_matrix\n",
        "\n",
        "def metrics(lbl, pred):\n",
        "    with warnings.catch_warnings():\n",
        "        warnings.simplefilter('ignore')\n",
        "        tn, fp, fn, tp = confusion_matrix(lbl, pred).ravel()\n",
        "        accuracy = (tn + tp) / (tn + tp + fn + fp)\n",
        "    return accuracy\n"
      ]
    },
    {
      "cell_type": "markdown",
      "metadata": {
        "id": "s7W4WyUAXNaj"
      },
      "source": [
        "\n",
        "***Randomized Search Cross Validation***\n",
        "\n",
        "Here, we begin hyperparameter tuning by using a randomized search. This will be used to determine ranges in which to perform grid search. "
      ]
    },
    {
      "cell_type": "code",
      "execution_count": 4,
      "metadata": {
        "colab": {
          "base_uri": "https://localhost:8080/"
        },
        "id": "M8KtVtg9YCOO",
        "outputId": "21ac226c-806f-4661-8d61-14eb23c0c909"
      },
      "outputs": [
        {
          "metadata": {
            "tags": null
          },
          "name": "stdout",
          "output_type": "stream",
          "text": [
            "Fitting 3 folds for each of 10 candidates, totalling 30 fits\n"
          ]
        },
        {
          "output_type": "stream",
          "name": "stderr",
          "text": [
            "/usr/local/lib/python3.7/dist-packages/sklearn/model_selection/_search.py:926: DataConversionWarning: A column-vector y was passed when a 1d array was expected. Please change the shape of y to (n_samples,), for example using ravel().\n",
            "  self.best_estimator_.fit(X, y, **fit_params)\n"
          ]
        }
      ],
      "source": [
        "\n",
        "# Hyperparamater Tuning for Random Forest Classifier \n",
        "\n",
        "# loading the data\n",
        "url_data = \"https://raw.githubusercontent.com/dlezcan1/machine-learning-fall-2021-final-project/main/data/egfr_erbB1_train_pca.csv\"\n",
        "url_labels = \"https://raw.githubusercontent.com/dlezcan1/machine-learning-fall-2021-final-project/main/data/egfr_erbB1_train_pca_labels.csv\"\n",
        "data = pd.read_csv(url_data, error_bad_lines=False)\n",
        "labels = pd.read_csv(url_labels, error_bad_lines=False)\n",
        "  \n",
        "# Split training data into training and validation datasets.\n",
        "feat_train, feat_val, lbl_train, lbl_val = train_test_split(data, labels, test_size=0.2, random_state=20, stratify=labels)\n",
        "\n",
        "# initializing all possibilities for the hyperparameters\n",
        "n_estimators = [int(x) for x in np.linspace(start = 200, stop = 2000, num = 10)]\n",
        "max_features = ['auto', 'sqrt']\n",
        "max_depth = [int(x) for x in np.linspace(10, 110, num = 11)]\n",
        "max_depth.append(None)\n",
        "min_samples_split = [2, 5, 10]\n",
        "min_samples_leaf = [1, 2, 4]\n",
        "bootstrap = [True, False]\n",
        "\n",
        "\n",
        "# Create the random grid\n",
        "random_grid = {'n_estimators': n_estimators,\n",
        "               'max_features': max_features,\n",
        "               'max_depth': max_depth,\n",
        "               'min_samples_split': min_samples_split,\n",
        "               'min_samples_leaf': min_samples_leaf,\n",
        "               'bootstrap': bootstrap}\n",
        "\n",
        "rf = RandomForestClassifier()\n",
        "\n",
        "# Random search of parameters, using 3 fold cross validation\n",
        "# search across 100 different combinations, and use all available cores\n",
        "rf_random = RandomizedSearchCV(estimator = rf, param_distributions = random_grid, n_iter = 10, cv = 3, verbose=2, random_state=42, n_jobs = -1)\n",
        "# Fit the random search model\n",
        "rf_random.fit(feat_train, lbl_train)\n",
        "new_pred = rf_random.predict(feat_val)\n"
      ]
    },
    {
      "cell_type": "markdown",
      "metadata": {
        "id": "ZcjKdKvKX5Fl"
      },
      "source": [
        "Next, we will visualize the best model accuracy, the chosen hyperparameter values, and compare them to the accuracy of the original model. \n",
        "\n"
      ]
    },
    {
      "cell_type": "code",
      "execution_count": 5,
      "metadata": {
        "colab": {
          "base_uri": "https://localhost:8080/"
        },
        "id": "G-sy90wbXFnn",
        "outputId": "5366a7bb-a9e3-4791-c70e-c253d4182173"
      },
      "outputs": [
        {
          "output_type": "stream",
          "name": "stderr",
          "text": [
            "/usr/local/lib/python3.7/dist-packages/ipykernel_launcher.py:5: DataConversionWarning: A column-vector y was passed when a 1d array was expected. Please change the shape of y to (n_samples,), for example using ravel().\n",
            "  \"\"\"\n"
          ]
        },
        {
          "output_type": "stream",
          "name": "stdout",
          "text": [
            "Best Parameters:  {'n_estimators': 1000, 'min_samples_split': 10, 'min_samples_leaf': 1, 'max_features': 'auto', 'max_depth': 80, 'bootstrap': False}\n",
            "Original Model Accuracy:  0.8571428571428571\n",
            "New Model Accuracy:  0.8670520231213873\n",
            "Improvement in Accuracy:  0.009909165978530199\n"
          ]
        }
      ],
      "source": [
        "# printing the accuracy of the best model vs new model\n",
        "\n",
        "# original model\n",
        "orig_model = RandomForestClassifier()\n",
        "orig_model.fit(feat_train, lbl_train)\n",
        "orig_pred = orig_model.predict(feat_val)\n",
        "\n",
        "# get best parameters\n",
        "print(\"Best Parameters: \", rf_random.best_params_)\n",
        "\n",
        "# get accuracies\n",
        "new_model_acc = metrics(lbl_val, new_pred)\n",
        "orig_model_acc = metrics(lbl_val, orig_pred)\n",
        "\n",
        "# print accuracies\n",
        "print(\"Original Model Accuracy: \", orig_model_acc)\n",
        "print(\"New Model Accuracy: \", new_model_acc)\n",
        "print(\"Improvement in Accuracy: \", new_model_acc - orig_model_acc)"
      ]
    },
    {
      "cell_type": "markdown",
      "metadata": {
        "id": "vJ0-fiSzYGnA"
      },
      "source": [
        "***Grid Search Cross Validation***\n",
        "\n",
        "Next, we will choose a range of values near the best randomized search "
      ]
    },
    {
      "cell_type": "code",
      "execution_count": 7,
      "metadata": {
        "colab": {
          "base_uri": "https://localhost:8080/"
        },
        "id": "-HKH7EaAYGLO",
        "outputId": "15805c38-cb35-4336-f8fe-5b40e98e869b"
      },
      "outputs": [
        {
          "metadata": {
            "tags": null
          },
          "name": "stdout",
          "output_type": "stream",
          "text": [
            "Fitting 2 folds for each of 27 candidates, totalling 54 fits\n"
          ]
        },
        {
          "metadata": {
            "tags": null
          },
          "name": "stderr",
          "output_type": "stream",
          "text": [
            "/usr/local/lib/python3.7/dist-packages/sklearn/model_selection/_search.py:926: DataConversionWarning: A column-vector y was passed when a 1d array was expected. Please change the shape of y to (n_samples,), for example using ravel().\n",
            "  self.best_estimator_.fit(X, y, **fit_params)\n"
          ]
        }
      ],
      "source": [
        "# Create the parameter grid based on the results of random search \n",
        "param_grid = {\n",
        "    'bootstrap': [False],\n",
        "    'max_depth': [ 70, 80, 90], \n",
        "    'max_features': ['auto'],\n",
        "    'min_samples_leaf': [1], # 1, 2, 3 # increased runtime so much that I ended up leaving this out\n",
        "    'min_samples_split': [8, 10, 12],\n",
        "    'n_estimators': [ 900, 1000, 1100],\n",
        "}\n",
        "\n",
        "# Instantiate the grid search model\n",
        "grid_search = GridSearchCV(estimator = rf, param_grid = param_grid, cv = 2, n_jobs = -1, verbose = 2)\n",
        "\n",
        "# Fit the grid search to the data\n",
        "grid_search.fit(feat_train, lbl_train)\n",
        "best_pred = grid_search.predict(feat_val)\n"
      ]
    },
    {
      "cell_type": "markdown",
      "metadata": {
        "id": "3B1PkgVbg7xS"
      },
      "source": [
        "Next, we will visualize the best model accuracy, the chosen hyperparameter values, and compare them to the accuracy of the original model. \n"
      ]
    },
    {
      "cell_type": "code",
      "execution_count": 8,
      "metadata": {
        "colab": {
          "base_uri": "https://localhost:8080/"
        },
        "id": "_SspNmQvg4JW",
        "outputId": "8e34c3ef-3a3b-46da-8007-3d7e87c591b2"
      },
      "outputs": [
        {
          "output_type": "stream",
          "name": "stdout",
          "text": [
            "Best Parameters:  {'bootstrap': False, 'max_depth': 70, 'max_features': 'auto', 'min_samples_leaf': 1, 'min_samples_split': 8, 'n_estimators': 1100}\n",
            "Original Model Accuracy:  0.8571428571428571\n",
            "New Model Accuracy:  0.8587943848059455\n",
            "Improvement in Accuracy:  0.0016515276630884035\n"
          ]
        }
      ],
      "source": [
        "# printing the accuracy of the best model vs new model\n",
        "\n",
        "# get best parameters\n",
        "print(\"Best Parameters: \", grid_search.best_params_)\n",
        "\n",
        "# get accuracies\n",
        "best_model_acc = metrics(lbl_val, best_pred)\n",
        "\n",
        "# print\n",
        "print(\"Original Model Accuracy: \", orig_model_acc)\n",
        "print(\"New Model Accuracy: \", best_model_acc)\n",
        "print(\"Improvement in Accuracy: \", best_model_acc - orig_model_acc)"
      ]
    }
  ],
  "metadata": {
    "colab": {
      "collapsed_sections": [],
      "name": "HyperparameterTuningRFC.ipynb",
      "provenance": [],
      "mount_file_id": "1XW4xPQDD0l8hknRDP5awM0GX273ViutR",
      "authorship_tag": "ABX9TyO3LppnW4qthJmDlOr8vmOp"
    },
    "kernelspec": {
      "display_name": "Python 3",
      "name": "python3"
    },
    "language_info": {
      "name": "python"
    }
  },
  "nbformat": 4,
  "nbformat_minor": 0
}