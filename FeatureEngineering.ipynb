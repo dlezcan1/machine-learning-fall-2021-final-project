{
  "nbformat": 4,
  "nbformat_minor": 0,
  "metadata": {
    "colab": {
      "name": "FeatureEngineering.ipynb",
      "provenance": [],
      "collapsed_sections": [],
      "authorship_tag": "ABX9TyMUwkDpHoIF4Z3xB5GGNU1y",
      "include_colab_link": true
    },
    "kernelspec": {
      "name": "python3",
      "display_name": "Python 3"
    },
    "language_info": {
      "name": "python"
    }
  },
  "cells": [
    {
      "cell_type": "markdown",
      "metadata": {
        "id": "view-in-github",
        "colab_type": "text"
      },
      "source": [
        "<a href=\"https://colab.research.google.com/github/dlezcan1/machine-learning-fall-2021-final-project/blob/main/FeatureEngineering.ipynb\" target=\"_parent\"><img src=\"https://colab.research.google.com/assets/colab-badge.svg\" alt=\"Open In Colab\"/></a>"
      ]
    },
    {
      "cell_type": "markdown",
      "metadata": {
        "id": "BFg6EwmaAmgH"
      },
      "source": [
        "Imports"
      ]
    },
    {
      "cell_type": "code",
      "metadata": {
        "id": "ooneOlQQAdSE"
      },
      "source": [
        "%matplotlib inline\n",
        "import pandas as pd\n",
        "import numpy as np\n",
        "import matplotlib.pyplot as plt\n",
        "from sklearn.decomposition import PCA\n",
        "from sklearn.model_selection import GridSearchCV"
      ],
      "execution_count": 1,
      "outputs": []
    },
    {
      "cell_type": "code",
      "metadata": {
        "colab": {
          "base_uri": "https://localhost:8080/"
        },
        "id": "hqz2OSX9A8nG",
        "outputId": "e8b5e318-4f91-49a5-dbf0-8251a436340a"
      },
      "source": [
        "from google.colab import drive\n",
        "drive.mount('/content/drive')"
      ],
      "execution_count": 3,
      "outputs": [
        {
          "output_type": "stream",
          "name": "stdout",
          "text": [
            "Mounted at /content/drive\n"
          ]
        }
      ]
    },
    {
      "cell_type": "markdown",
      "metadata": {
        "id": "EZsi9RkMBwV_"
      },
      "source": [
        "Load the data"
      ]
    },
    {
      "cell_type": "code",
      "metadata": {
        "colab": {
          "base_uri": "https://localhost:8080/"
        },
        "id": "x0fRJsHPBX8x",
        "outputId": "4140686d-aeb4-42ef-fa63-e4b222494c99"
      },
      "source": [
        "data = pd.read_csv('/content/drive/MyDrive/Colab Notebooks/ML Final Project Fall 2021/Data/egfr_erbB1_train.csv')\n",
        "data.shape\n",
        "display(data)"
      ],
      "execution_count": 4,
      "outputs": [
        {
          "output_type": "execute_result",
          "data": {
            "text/plain": [
              "(6054, 8193)"
            ]
          },
          "metadata": {},
          "execution_count": 4
        }
      ]
    },
    {
      "cell_type": "code",
      "metadata": {
        "colab": {
          "base_uri": "https://localhost:8080/"
        },
        "id": "60Gut-M_CNSB",
        "outputId": "26cce538-ea60-425f-8a87-9790ac131baa"
      },
      "source": [
        "# separate the features out\n",
        "lbl, feats = data.iloc[:,0], data.iloc[:,1:]\n",
        "print(lbl.shape, feats.shape)\n"
      ],
      "execution_count": 7,
      "outputs": [
        {
          "output_type": "stream",
          "name": "stdout",
          "text": [
            "(6054,) (6054, 8192)\n"
          ]
        }
      ]
    },
    {
      "cell_type": "markdown",
      "metadata": {
        "id": "2knGH20rCr5e"
      },
      "source": [
        "Perform PCA"
      ]
    },
    {
      "cell_type": "code",
      "metadata": {
        "colab": {
          "base_uri": "https://localhost:8080/",
          "height": 299
        },
        "id": "k-EpLjSKDLKw",
        "outputId": "32e955e0-a417-4427-c480-da5f956f2b19"
      },
      "source": [
        "pca_exp = PCA(n_components=200) # 40 seems like on OK number to me, but will use 100 for large use with Neural Networks \n",
        "pca_exp.fit(feats)\n",
        "print(pca_exp.singular_values_.shape, pca_exp.components_.shape)\n",
        "plt.plot(pca_exp.singular_values_)"
      ],
      "execution_count": 21,
      "outputs": [
        {
          "output_type": "stream",
          "name": "stdout",
          "text": [
            "(200,) (200, 8192)\n"
          ]
        },
        {
          "output_type": "execute_result",
          "data": {
            "text/plain": [
              "[<matplotlib.lines.Line2D at 0x7fa5c8f37e50>]"
            ]
          },
          "metadata": {},
          "execution_count": 21
        },
        {
          "output_type": "display_data",
          "data": {
            "image/png": "[encoded data removed]",
            "text/plain": [
              "<Figure size 432x288 with 1 Axes>"
            ]
          },
          "metadata": {
            "needs_background": "light"
          }
        }
      ]
    },
    {
      "cell_type": "code",
      "metadata": {
        "colab": {
          "base_uri": "https://localhost:8080/"
        },
        "id": "MhLJgxDsF1Mm",
        "outputId": "58bdd47d-6ce8-4f41-eb22-af2fb759538d"
      },
      "source": [
        "pca_feats = PCA(n_components=100)\n",
        "feats_reduced = pca_feats.fit_transform(feats)\n",
        "print(feats_reduced.shape)"
      ],
      "execution_count": 22,
      "outputs": [
        {
          "output_type": "stream",
          "name": "stdout",
          "text": [
            "(6054, 100)\n"
          ]
        }
      ]
    },
    {
      "cell_type": "code",
      "metadata": {
        "id": "rMHde0BJGgV7"
      },
      "source": [
        ""
      ],
      "execution_count": null,
      "outputs": []
    }
  ]
}